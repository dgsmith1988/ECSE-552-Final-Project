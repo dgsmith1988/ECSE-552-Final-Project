{
  "nbformat": 4,
  "nbformat_minor": 0,
  "metadata": {
    "colab": {
      "name": "resnet50_with_pytorch.ipynb",
      "provenance": [],
      "authorship_tag": "ABX9TyMq1S36JKdXaQw7RGGhtkyL",
      "include_colab_link": true
    },
    "kernelspec": {
      "name": "python3",
      "display_name": "Python 3"
    },
    "language_info": {
      "name": "python"
    }
  },
  "cells": [
    {
      "cell_type": "markdown",
      "metadata": {
        "id": "view-in-github",
        "colab_type": "text"
      },
      "source": [
        "<a href=\"https://colab.research.google.com/github/dgsmith1988/ECSE-552-Final-Project/blob/main/resnet50_with_pytorch.ipynb\" target=\"_parent\"><img src=\"https://colab.research.google.com/assets/colab-badge.svg\" alt=\"Open In Colab\"/></a>"
      ]
    },
    {
      "cell_type": "code",
      "execution_count": null,
      "metadata": {
        "id": "dJ1xiS5ngfPs"
      },
      "outputs": [],
      "source": [
        ""
      ]
    }
  ]
}