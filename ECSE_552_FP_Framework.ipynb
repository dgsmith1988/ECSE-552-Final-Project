{
  "nbformat": 4,
  "nbformat_minor": 0,
  "metadata": {
    "colab": {
      "name": "ECSE-552-FP-Framework",
      "provenance": [],
      "authorship_tag": "ABX9TyMISV0uRyYhjBMHkYjYUcxd",
      "include_colab_link": true
    },
    "kernelspec": {
      "name": "python3",
      "display_name": "Python 3"
    },
    "language_info": {
      "name": "python"
    }
  },
  "cells": [
    {
      "cell_type": "markdown",
      "metadata": {
        "id": "view-in-github",
        "colab_type": "text"
      },
      "source": [
        "<a href=\"https://colab.research.google.com/github/dgsmith1988/ECSE-552-Final-Project/blob/main/ECSE_552_FP_Framework.ipynb\" target=\"_parent\"><img src=\"https://colab.research.google.com/assets/colab-badge.svg\" alt=\"Open In Colab\"/></a>"
      ]
    },
    {
      "cell_type": "code",
      "execution_count": 20,
      "metadata": {
        "id": "pKQjG3dbn5Zn"
      },
      "outputs": [],
      "source": [
        "mount_point = '/content/drive'\n",
        "load_path = '/MyDrive/ECSE-552-FP/Data/'\n",
        "load_file = 'test_data.zip'\n",
        "unzip_path = '/content/test_data/'\n",
        "save_path = '/MyDrive/ECSE-552-FP/Measurements/'\n",
        "from google.colab import drive\n",
        "drive.mount(mount_point)"
      ]
    },
    {
      "cell_type": "code",
      "source": [
        "!unzip {mount_point + load_path + load_file} -d {unzip_path}"
      ],
      "metadata": {
        "colab": {
          "base_uri": "https://localhost:8080/"
        },
        "id": "9Z_DRvXQsAeC",
        "outputId": "07b6031d-f3ad-456e-e745-2c673356fffd"
      },
      "execution_count": 21,
      "outputs": [
        {
          "output_type": "stream",
          "name": "stdout",
          "text": [
            "Archive:  /content/drive/MyDrive/ECSE-552-FP/Data/test_data.zip\n",
            "replace /content/test_data/lunar_source.csv? [y]es, [n]o, [A]ll, [N]one, [r]ename: A\n",
            "  inflating: /content/test_data/lunar_source.csv  \n",
            "  inflating: /content/test_data/lunar_target.csv  \n"
          ]
        }
      ]
    },
    {
      "cell_type": "code",
      "source": [
        "mount_point + load_path + load_file"
      ],
      "metadata": {
        "colab": {
          "base_uri": "https://localhost:8080/",
          "height": 36
        },
        "id": "bh6xBS-WtDQ-",
        "outputId": "b076b9e0-a2f0-4e37-f4db-7fcc0204aa32"
      },
      "execution_count": 14,
      "outputs": [
        {
          "output_type": "execute_result",
          "data": {
            "application/vnd.google.colaboratory.intrinsic+json": {
              "type": "string"
            },
            "text/plain": [
              "'/content/drive/MyDrive/ECSE-552-FP/Data/test_data.zip'"
            ]
          },
          "metadata": {},
          "execution_count": 14
        }
      ]
    },
    {
      "cell_type": "code",
      "source": [
        "!pwd"
      ],
      "metadata": {
        "colab": {
          "base_uri": "https://localhost:8080/"
        },
        "id": "LMlSdfGUt_1n",
        "outputId": "94fa55b9-2d7a-4fab-ec2d-181f654a8df7"
      },
      "execution_count": 39,
      "outputs": [
        {
          "output_type": "stream",
          "name": "stdout",
          "text": [
            "shell-init: error retrieving current directory: getcwd: cannot access parent directories: Transport endpoint is not connected\n",
            "pwd: error retrieving current directory: getcwd: cannot access parent directories: Transport endpoint is not connected\n"
          ]
        }
      ]
    },
    {
      "cell_type": "code",
      "source": [
        "test_data_path"
      ],
      "metadata": {
        "colab": {
          "base_uri": "https://localhost:8080/",
          "height": 36
        },
        "id": "jbQwYT-ctNkd",
        "outputId": "58090693-107f-4763-d906-11a66993cf34"
      },
      "execution_count": 18,
      "outputs": [
        {
          "output_type": "execute_result",
          "data": {
            "application/vnd.google.colaboratory.intrinsic+json": {
              "type": "string"
            },
            "text/plain": [
              "'/content/drive/MyDrive/ECSE-552-FP/Data/test_data.zip'"
            ]
          },
          "metadata": {},
          "execution_count": 18
        }
      ]
    }
  ]
}